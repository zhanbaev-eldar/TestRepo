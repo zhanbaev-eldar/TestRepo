{
 "cells": [
  {
   "cell_type": "markdown",
   "id": "51ab9998-b9cf-4574-9623-34133ffbeec0",
   "metadata": {},
   "source": [
    "# Data Science Tools and Ecosystem"
   ]
  },
  {
   "cell_type": "markdown",
   "id": "e3568bf4-a9a0-41f0-bc90-b3586178da87",
   "metadata": {},
   "source": [
    "In this notebook, Data Science Tools and Ecosystem are summarized."
   ]
  },
  {
   "cell_type": "markdown",
   "id": "de3173d3-573b-479f-9e90-37f2babddab0",
   "metadata": {},
   "source": [
    "Some of the popular languages that Data Scientists use are:\n",
    "\n",
    "1. Python\n",
    "2. R-languages\n",
    "3. SQL\n",
    "4. Julia"
   ]
  },
  {
   "cell_type": "markdown",
   "id": "53b99a8c-ac2b-4cb0-a27e-8245e8d54103",
   "metadata": {},
   "source": [
    "Some of the commonly used libraries used by Data Scientists include:\n",
    "\n",
    "1. Pandas  \n",
    "2. NumPy  \n",
    "3. Matplotlib  \n",
    "4. Scikit-learn  \n",
    "5. TensorFlow"
   ]
  },
  {
   "cell_type": "markdown",
   "id": "3d95f067-e0d7-48cc-9fa6-917356dc1b2f",
   "metadata": {},
   "source": [
    "| Data Science Tools        |\n",
    "|---------------------------|\n",
    "| Jupyter Notebooks         |\n",
    "| RStudio                   |\n",
    "| Apache Zeppelin           |\n",
    "| Python                    |\n"
   ]
  },
  {
   "cell_type": "markdown",
   "id": "c0e2aac5-66ba-4339-a6bf-6aa8ee120b83",
   "metadata": {},
   "source": [
    "### Below are a few examples of evaluating arithmetic expressions in Python."
   ]
  },
  {
   "cell_type": "code",
   "execution_count": 4,
   "id": "1838d48c-945d-46e0-87e1-636683f82086",
   "metadata": {},
   "outputs": [
    {
     "data": {
      "text/plain": [
       "17"
      ]
     },
     "execution_count": 4,
     "metadata": {},
     "output_type": "execute_result"
    }
   ],
   "source": [
    "# This a simple arithmetic expression to multiply then add integers\n",
    "(3*4)+5\n"
   ]
  },
  {
   "cell_type": "code",
   "execution_count": 6,
   "id": "68179c4f-c9f0-4566-a9a9-4130dba965dd",
   "metadata": {},
   "outputs": [
    {
     "data": {
      "text/plain": [
       "3.3333333333333335"
      ]
     },
     "execution_count": 6,
     "metadata": {},
     "output_type": "execute_result"
    }
   ],
   "source": [
    "# This will convert 200 minutes to hours by diving by 60\n",
    "200 / 60"
   ]
  },
  {
   "cell_type": "markdown",
   "id": "75c56a6a-e287-4850-af1b-1e318284d860",
   "metadata": {},
   "source": [
    "**Objectives:**\n",
    "\n",
    "- List popular languages for Data Science  \n",
    "- List commonly used libraries in Data Science  \n",
    "- Demonstrate basic arithmetic operations in Python  \n",
    "- Create and format markdown cells in Jupyter Notebook  \n",
    "- Understand the ecosystem and tools used in Data Science\n"
   ]
  },
  {
   "cell_type": "markdown",
   "id": "4168c368-4062-4211-9c48-47f74d7707e6",
   "metadata": {},
   "source": [
    "## Author\n",
    "\n",
    "Eldar Zhanbaev\n"
   ]
  },
  {
   "cell_type": "code",
   "execution_count": null,
   "id": "3ec24b9e-e604-4638-b9cf-0192f9808635",
   "metadata": {},
   "outputs": [],
   "source": []
  }
 ],
 "metadata": {
  "kernelspec": {
   "display_name": "Python 3 (ipykernel)",
   "language": "python",
   "name": "python3"
  },
  "language_info": {
   "codemirror_mode": {
    "name": "ipython",
    "version": 3
   },
   "file_extension": ".py",
   "mimetype": "text/x-python",
   "name": "python",
   "nbconvert_exporter": "python",
   "pygments_lexer": "ipython3",
   "version": "3.12.8"
  }
 },
 "nbformat": 4,
 "nbformat_minor": 5
}
